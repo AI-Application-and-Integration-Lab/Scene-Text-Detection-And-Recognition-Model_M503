{
 "cells": [
  {
   "cell_type": "markdown",
   "metadata": {},
   "source": [
    "# 82841986 is_char and is_digit"
   ]
  },
  {
   "cell_type": "markdown",
   "metadata": {},
   "source": [
    "# 82075350 regrex non-ascii and none-digit"
   ]
  },
  {
   "cell_type": "markdown",
   "metadata": {},
   "source": [
    "## 86460763 left"
   ]
  },
  {
   "cell_type": "code",
   "execution_count": null,
   "metadata": {},
   "outputs": [
    {
     "ename": "",
     "evalue": "",
     "output_type": "error",
     "traceback": [
      "\u001b[1;31mRunning cells with 'Python 3.7.13 ('abinet')' requires ipykernel package.\n",
      "\u001b[1;31mRun the following command to install 'ipykernel' into the Python environment. \n",
      "\u001b[1;31mCommand: 'conda install -n abinet ipykernel --update-deps --force-reinstall'"
     ]
    }
   ],
   "source": [
    "import os\n",
    "import random\n",
    "import re\n",
    "import pandas as pd"
   ]
  },
  {
   "cell_type": "code",
   "execution_count": null,
   "metadata": {},
   "outputs": [
    {
     "ename": "",
     "evalue": "",
     "output_type": "error",
     "traceback": [
      "\u001b[1;31mRunning cells with 'Python 3.7.13 ('abinet')' requires ipykernel package.\n",
      "\u001b[1;31mRun the following command to install 'ipykernel' into the Python environment. \n",
      "\u001b[1;31mCommand: 'conda install -n abinet ipykernel --update-deps --force-reinstall'"
     ]
    }
   ],
   "source": [
    "max_length = 12\n",
    "min_length = 3\n",
    "root = '../data'\n",
    "charset = 'abcdefghijklmnopqrstuvwxyz'\n",
    "digits = '0123456789'"
   ]
  },
  {
   "cell_type": "code",
   "execution_count": 3,
   "metadata": {},
   "outputs": [],
   "source": [
    "def is_char(text, ratio=0.5):\n",
    "    text = text.lower()\n",
    "    length = max(len(text), 1)\n",
    "    char_num = sum([t in charset for t in text])\n",
    "    if char_num < min_length: return False\n",
    "    if char_num / length < ratio: return False\n",
    "    return True\n",
    "\n",
    "def is_digit(text, ratio=0.5):\n",
    "    length = max(len(text), 1)\n",
    "    digit_num = sum([t in digits for t in text])\n",
    "    if digit_num / length < ratio: return False\n",
    "    return True"
   ]
  },
  {
   "cell_type": "markdown",
   "metadata": {},
   "source": [
    "# generate training dataset"
   ]
  },
  {
   "cell_type": "code",
   "execution_count": 4,
   "metadata": {},
   "outputs": [],
   "source": [
    "with open('/media/avlab/DATA/ABINet/workdir/wikitext-103/wiki.train.tokens', 'r') as file:\n",
    "    lines = file.readlines()"
   ]
  },
  {
   "cell_type": "code",
   "execution_count": 5,
   "metadata": {},
   "outputs": [],
   "source": [
    "inp, gt = [], []\n",
    "for line in lines:\n",
    "    token = line.lower().split()\n",
    "    for text in token:\n",
    "        text = re.sub('[^0-9a-zA-Z]+', '', text)\n",
    "        if len(text) < min_length:\n",
    "            # print('short-text', text)\n",
    "            continue\n",
    "        if len(text) > max_length:\n",
    "            # print('long-text', text)\n",
    "            continue\n",
    "        inp.append(text)\n",
    "        gt.append(text)"
   ]
  },
  {
   "cell_type": "code",
   "execution_count": 6,
   "metadata": {},
   "outputs": [],
   "source": [
    "train_voc = os.path.join(root, 'WikiText-103.csv')\n",
    "pd.DataFrame({'inp':inp, 'gt':gt}).to_csv(train_voc, index=None, sep='\\t')"
   ]
  },
  {
   "cell_type": "code",
   "execution_count": 7,
   "metadata": {},
   "outputs": [
    {
     "data": {
      "text/plain": [
       "86460763"
      ]
     },
     "execution_count": 7,
     "metadata": {},
     "output_type": "execute_result"
    }
   ],
   "source": [
    "len(inp)"
   ]
  },
  {
   "cell_type": "code",
   "execution_count": 8,
   "metadata": {},
   "outputs": [
    {
     "data": {
      "text/plain": [
       "['valkyria',\n",
       " 'chronicles',\n",
       " 'iii',\n",
       " 'senj',\n",
       " 'no',\n",
       " 'valkyria',\n",
       " '3',\n",
       " 'unk',\n",
       " 'chronicles',\n",
       " 'japanese',\n",
       " '3',\n",
       " 'lit',\n",
       " 'valkyria',\n",
       " 'of',\n",
       " 'the',\n",
       " 'battlefield',\n",
       " '3',\n",
       " 'commonly',\n",
       " 'referred',\n",
       " 'to',\n",
       " 'as',\n",
       " 'valkyria',\n",
       " 'chronicles',\n",
       " 'iii',\n",
       " 'outside',\n",
       " 'japan',\n",
       " 'is',\n",
       " 'a',\n",
       " 'tactical',\n",
       " 'role',\n",
       " 'playing',\n",
       " 'video',\n",
       " 'game',\n",
       " 'developed',\n",
       " 'by',\n",
       " 'sega',\n",
       " 'and',\n",
       " 'mediavision',\n",
       " 'for',\n",
       " 'the',\n",
       " 'playstation',\n",
       " 'portable',\n",
       " 'released',\n",
       " 'in',\n",
       " 'january',\n",
       " '2011',\n",
       " 'in',\n",
       " 'japan',\n",
       " 'it',\n",
       " 'is',\n",
       " 'the',\n",
       " 'third',\n",
       " 'game',\n",
       " 'in',\n",
       " 'the',\n",
       " 'valkyria',\n",
       " 'series',\n",
       " 'employing',\n",
       " 'the',\n",
       " 'same',\n",
       " 'fusion',\n",
       " 'of',\n",
       " 'tactical',\n",
       " 'and',\n",
       " 'real',\n",
       " 'time',\n",
       " 'gameplay',\n",
       " 'as',\n",
       " 'its',\n",
       " 'predecessors',\n",
       " 'the',\n",
       " 'story',\n",
       " 'runs',\n",
       " 'parallel',\n",
       " 'to',\n",
       " 'the',\n",
       " 'first',\n",
       " 'game',\n",
       " 'and',\n",
       " 'follows',\n",
       " 'the',\n",
       " 'nameless',\n",
       " 'a',\n",
       " 'penal',\n",
       " 'military',\n",
       " 'unit',\n",
       " 'serving',\n",
       " 'the',\n",
       " 'nation',\n",
       " 'of',\n",
       " 'gallia',\n",
       " 'during',\n",
       " 'the',\n",
       " 'second',\n",
       " 'europan',\n",
       " 'war',\n",
       " 'who',\n",
       " 'perform',\n",
       " 'secret',\n",
       " 'black']"
      ]
     },
     "execution_count": 8,
     "metadata": {},
     "output_type": "execute_result"
    }
   ],
   "source": [
    "inp[:100]"
   ]
  },
  {
   "cell_type": "markdown",
   "metadata": {},
   "source": [
    "# generate evaluation dataset"
   ]
  },
  {
   "cell_type": "code",
   "execution_count": 9,
   "metadata": {},
   "outputs": [],
   "source": [
    "def disturb(word, degree, p=0.3):\n",
    "    if len(word) // 2 < degree: return word\n",
    "    if is_digit(word): return word\n",
    "    if random.random() < p: return word\n",
    "    else:\n",
    "        index = list(range(len(word)))\n",
    "        random.shuffle(index)\n",
    "        index = index[:degree]\n",
    "        new_word = []\n",
    "        for i in range(len(word)):\n",
    "            if i not in index: \n",
    "                new_word.append(word[i])\n",
    "                continue\n",
    "            if (word[i] not in charset) and (word[i] not in digits):\n",
    "                # special token\n",
    "                new_word.append(word[i])\n",
    "                continue\n",
    "            op = random.random()\n",
    "            if op < 0.1: # add\n",
    "                new_word.append(random.choice(charset))\n",
    "                new_word.append(word[i])\n",
    "            elif op < 0.2: continue  # remove\n",
    "            else: new_word.append(random.choice(charset))  # replace\n",
    "        return ''.join(new_word)"
   ]
  },
  {
   "cell_type": "code",
   "execution_count": 10,
   "metadata": {},
   "outputs": [],
   "source": [
    "lines = inp\n",
    "degree = 1\n",
    "keep_num = 50000\n",
    "\n",
    "random.shuffle(lines)\n",
    "part_lines = lines[:keep_num]\n",
    "inp, gt = [], []\n",
    "\n",
    "for w in part_lines:\n",
    "    w = w.strip().lower()\n",
    "    new_w = disturb(w, degree)\n",
    "    inp.append(new_w)\n",
    "    gt.append(w)\n",
    "    \n",
    "eval_voc = os.path.join(root, f'ReCTS-CTE_eval_d{degree}.csv')\n",
    "pd.DataFrame({'inp':inp, 'gt':gt}).to_csv(eval_voc, index=None, sep='\\t')"
   ]
  },
  {
   "cell_type": "code",
   "execution_count": null,
   "metadata": {},
   "outputs": [],
   "source": [
    "list(zip(inp, gt))[:100]"
   ]
  },
  {
   "cell_type": "code",
   "execution_count": null,
   "metadata": {},
   "outputs": [],
   "source": []
  }
 ],
 "metadata": {
  "kernelspec": {
   "display_name": "Python 3.7.13 ('abinet')",
   "language": "python",
   "name": "python3"
  },
  "language_info": {
   "codemirror_mode": {
    "name": "ipython",
    "version": 3
   },
   "file_extension": ".py",
   "mimetype": "text/x-python",
   "name": "python",
   "nbconvert_exporter": "python",
   "pygments_lexer": "ipython3",
   "version": "3.7.13"
  },
  "vscode": {
   "interpreter": {
    "hash": "c39cc05a294b4793c821d03e12715b4bf9aac23c13ae63de2d010b1f4dd288af"
   }
  }
 },
 "nbformat": 4,
 "nbformat_minor": 4
}
